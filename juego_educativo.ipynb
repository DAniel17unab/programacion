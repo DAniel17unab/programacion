{
  "nbformat": 4,
  "nbformat_minor": 0,
  "metadata": {
    "colab": {
      "provenance": [],
      "collapsed_sections": []
    },
    "kernelspec": {
      "name": "python3",
      "display_name": "Python 3"
    },
    "language_info": {
      "name": "python"
    }
  },
  "cells": [
    {
      "cell_type": "code",
      "source": [
        "import random\n",
        "\n",
        "guessesTanken = 0\n",
        "minNumber = 0\n",
        "maxNumber = 20\n",
        "print(\"holaaa, Cuál es es tu nombree: \" )\n",
        "username= input(  )\n",
        "\n",
        "number = random.randint(minNumber, maxnumber )\n",
        "\n",
        "print(\"bueno, \" + username + \" estoy pensando en un número entre \" + str(minNumber) + \" y \" + str(maxNumber) )\n",
        "\n",
        "while guessesTanken <6:\n",
        "  print(\"sigue intentando: \")\n",
        "  guess = input()\n",
        "  guess = int(guess)\n",
        "\n",
        "  guessesTanken = guessesTanken + 1\n",
        "\n",
        "  if  guess < number:\n",
        "    print(\"esta un poquito lejos\")\n",
        "  if guess > number:\n",
        "    print(\"te pasaste\")\n",
        "  if guess == number:\n",
        "    break\n",
        "\n",
        "if guess == number:\n",
        "  guessesTanken = str(guessesTanken)\n",
        "  print(\"lo has adivinado.\" + username + \"! adivinaste mi número en \" + guessesTanken + \" intentos \")\n",
        "\n",
        "\n",
        "if guess: != number :\n",
        "  number = str(number)\n",
        "  print(\"No, el número que pensé era el \" + number)\n",
        "\n"
      ],
      "metadata": {
        "colab": {
          "base_uri": "https://localhost:8080/",
          "height": 131
        },
        "id": "NbnveEe6aUI9",
        "outputId": "0bb5ce6a-06d2-4e6c-eb03-d7ad197b5ceb"
      },
      "execution_count": null,
      "outputs": [
        {
          "output_type": "error",
          "ename": "SyntaxError",
          "evalue": "ignored",
          "traceback": [
            "\u001b[0;36m  File \u001b[0;32m\"<ipython-input-24-995957c6c0ea>\"\u001b[0;36m, line \u001b[0;32m32\u001b[0m\n\u001b[0;31m    if guess: != number :\u001b[0m\n\u001b[0m               ^\u001b[0m\n\u001b[0;31mSyntaxError\u001b[0m\u001b[0;31m:\u001b[0m invalid syntax\n"
          ]
        }
      ]
    }
  ]
}