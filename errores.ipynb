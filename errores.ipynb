{
  "nbformat": 4,
  "nbformat_minor": 0,
  "metadata": {
    "colab": {
      "provenance": []
    },
    "kernelspec": {
      "name": "python3",
      "display_name": "Python 3"
    },
    "language_info": {
      "name": "python"
    }
  },
  "cells": [
    {
      "cell_type": "code",
      "execution_count": null,
      "metadata": {
        "id": "bu7ckC6grylu"
      },
      "outputs": [],
      "source": [
        "x=int (input ('ingrese un número '))\n",
        "  if  x>=0:\n",
        "  print(x,'es un número positivo')\n",
        "\n",
        "  else:\n",
        "    print('es negativo')\n",
        "  File \"<ipython-input-12-4963941d38f6>\", line 2\n",
        "    if  x>=0:\n",
        "    ^\n",
        "IndentationError: unexpected indent\n",
        "Hay un error de indentación, lo cual dice que hay un espacio hacia la derecha donde no deberían,en el if empieza el error. solo se soluciona si se borran esos espacio en el if y en el else"
      ]
    },
    {
      "cell_type": "code",
      "source": [
        "x= int(input('ingrese un número'))\n",
        "if x>0\n",
        "  print(x,'es un número positivo ')\n",
        "elif x==0:\n",
        "  print(str(x)+' es cero ')\n",
        "else: \n",
        "    print(f'{x}es un número es positivo')\n",
        "  File \"<ipython-input-14-7db2bbd34cd6>\", line 2\n",
        "    if x>0\n",
        "          ^\n",
        "SyntaxError: invalid syntax"
      ],
      "metadata": {
        "id": "gTm4Q9w6r0qo"
      },
      "execution_count": null,
      "outputs": []
    },
    {
      "cell_type": "code",
      "source": [
        "def factorial(n):\n",
        "    if n == 0 or n == 1:\n",
        "        return 1\n",
        "    return n * factorial(n-1)\n",
        "    # n = 3\n",
        "    # 3! = 3 * 2!\n",
        "    # 2! = 2 * 1!\n",
        "    # 1! = 1  Base\n",
        "if __name__ == '__main__':\n",
        "    f = factorial(2000)\n",
        "    print(f)\n",
        "\n",
        "    ##Excepción Recursion Error.cuando la ejecución del programa excede el límite de recurrencia del intérprete de Python. Dos formas de abordar esta excepción son aumentar el límite de recurrencia de Python o refactorizar el código usando iteración en lugar de recurrencia. lo corregimos"
      ],
      "metadata": {
        "id": "JCTZqcncr5f_"
      },
      "execution_count": null,
      "outputs": []
    },
    {
      "cell_type": "code",
      "source": [
        "gru1=[]\n",
        "notas1=[]\n",
        "\n",
        "n1=int(input('número de estudiantes de curso'))\n",
        "for i in range (0,n1)\n",
        "  estudiante1=input(' nombre de estudiante')\n",
        "  nota1=int(input(' digite nota de cada estudiante'))\n",
        "  gru1.append(estudiante1)\n",
        "  notas1.append(nota1)\n",
        "sumnota=sum(notas1)"
      ],
      "metadata": {
        "colab": {
          "base_uri": "https://localhost:8080/",
          "height": 130
        },
        "id": "vkN969GUr_If",
        "outputId": "7a984057-48be-4a6f-8bc9-72228c3e1c2c"
      },
      "execution_count": null,
      "outputs": [
        {
          "output_type": "error",
          "ename": "SyntaxError",
          "evalue": "ignored",
          "traceback": [
            "\u001b[0;36m  File \u001b[0;32m\"<ipython-input-1-6c5cff603784>\"\u001b[0;36m, line \u001b[0;32m5\u001b[0m\n\u001b[0;31m    for i in range (0,n1)\u001b[0m\n\u001b[0m                         ^\u001b[0m\n\u001b[0;31mSyntaxError\u001b[0m\u001b[0;31m:\u001b[0m invalid syntax\n"
          ]
        }
      ]
    },
    {
      "cell_type": "markdown",
      "source": [
        "error de sintaxis, esta mal escrito el for i in range, le hace falta terminarlo con :"
      ],
      "metadata": {
        "id": "95F8m_fRsEdw"
      }
    },
    {
      "cell_type": "code",
      "source": [
        "inv={\"combo1\":20000,\n",
        "     \"combo2\":25000,\"combo3\":18000,\n",
        "     \"combo4\":24500,\"jugos naturales\":7000,\n",
        "     \"cerveza\":3500,\"agua\":4000,\"gaseosa\":2500,\n",
        "     \"papas\":3000}\n",
        "print('los productos que tenemos son:combo1:20000,combo2:25000,combo3:18000,combo4:24500,jugos naturales:7000,cerveza:3500,agua:4000,gaseosa:2500,papas:3000')\n",
        "\n",
        "compr=[]\n",
        "tot=[]\n",
        "totalven=[]\n",
        "\n",
        "def caja():\n",
        "    vende = input('cuales productos se vendieron ').lower()\n",
        "    canti = int(input('cuántos de cada producto '))\n",
        "    while vende!=\"salir\":\n",
        "      if vende in inv:\n",
        "        for i in range(0,canti):\n",
        "          comp.append(vende)\n",
        "        vende=input('necesita algo más, si no escriba salir ')\n",
        "        \n",
        "        canti = int(input('cuantos de cada producto desea '))\n",
        "      else:\n",
        "        vende=(input(\"no tenemos es eproducto \"))\n",
        "\n",
        "\n",
        "caja()\n",
        "print('estos son tus prodctos de la factura ',comp)\n",
        "respcliente=input('quiere comprar algo mas ').lower()\n",
        "if respcliente== \"si\":\n",
        "  caja()\n",
        "  print('esto se vendio el diade hoy ',comp)\n",
        "  for x in comp:\n",
        "    tot.append(inv[x])\n",
        "    horadepagart=sum(tot)\n",
        "else:\n",
        "  for x in comp:\n",
        "    tot.append(inv[x])\n",
        "    horadepagart=sum(tot)\n",
        "print('el total de la venta es ',horadepagart)\n",
        "mascosas=input(print('desea garegar mas cosas')).lower()\n",
        "tot=tot\n",
        "while mascosas!=\"no\":\n",
        "  if mascosas==\"si\":\n",
        "    caja()\n",
        "print('estos son tus prodctos de la factura ',comp)\n",
        "respcliente=input('quiere comprar algo mas').lower()\n",
        "if respcliente== \"si\":\n",
        "  caja()\n",
        "  print('esto se vendio el diade hoy',comp)\n",
        "  for x in comp:\n",
        "    tot.append(inv[x])\n",
        "    horadepagart=sum(tot)\n",
        "else:\n",
        "  for x in comp:\n",
        "    tot.append(inv[x])\n",
        "    horadepagart=sum(tot)\n",
        "print('el total de la venta es ',horadepagart)"
      ],
      "metadata": {
        "colab": {
          "base_uri": "https://localhost:8080/",
          "height": 415
        },
        "id": "mczXcntlsFQP",
        "outputId": "fa421aad-b50f-4384-9f99-5052ab10fce3"
      },
      "execution_count": null,
      "outputs": [
        {
          "name": "stdout",
          "output_type": "stream",
          "text": [
            "los productos que tenemos son:combo1:20000,combo2:25000,combo3:18000,combo4:24500,jugos naturales:7000,cerveza:3500,agua:4000,gaseosa:2500,papas:3000\n",
            "cualesproductos se vendieron sds\n"
          ]
        },
        {
          "output_type": "error",
          "ename": "KeyboardInterrupt",
          "evalue": "ignored",
          "traceback": [
            "\u001b[0;31m---------------------------------------------------------------------------\u001b[0m",
            "\u001b[0;31mKeyboardInterrupt\u001b[0m                         Traceback (most recent call last)",
            "\u001b[0;32m<ipython-input-2-b80d201f1e4f>\u001b[0m in \u001b[0;36m<module>\u001b[0;34m\u001b[0m\n\u001b[1;32m     24\u001b[0m \u001b[0;34m\u001b[0m\u001b[0m\n\u001b[1;32m     25\u001b[0m \u001b[0;34m\u001b[0m\u001b[0m\n\u001b[0;32m---> 26\u001b[0;31m \u001b[0mcaja\u001b[0m\u001b[0;34m(\u001b[0m\u001b[0;34m)\u001b[0m\u001b[0;34m\u001b[0m\u001b[0;34m\u001b[0m\u001b[0m\n\u001b[0m\u001b[1;32m     27\u001b[0m \u001b[0mprint\u001b[0m\u001b[0;34m(\u001b[0m\u001b[0;34m'estos son tus prodctos de la factura '\u001b[0m\u001b[0;34m,\u001b[0m\u001b[0mcomp\u001b[0m\u001b[0;34m)\u001b[0m\u001b[0;34m\u001b[0m\u001b[0;34m\u001b[0m\u001b[0m\n\u001b[1;32m     28\u001b[0m \u001b[0mrespcliente\u001b[0m\u001b[0;34m=\u001b[0m\u001b[0minput\u001b[0m\u001b[0;34m(\u001b[0m\u001b[0;34m'quiere comprar algo mas '\u001b[0m\u001b[0;34m)\u001b[0m\u001b[0;34m.\u001b[0m\u001b[0mlower\u001b[0m\u001b[0;34m(\u001b[0m\u001b[0;34m)\u001b[0m\u001b[0;34m\u001b[0m\u001b[0;34m\u001b[0m\u001b[0m\n",
            "\u001b[0;32m<ipython-input-2-b80d201f1e4f>\u001b[0m in \u001b[0;36mcaja\u001b[0;34m()\u001b[0m\n\u001b[1;32m     12\u001b[0m \u001b[0;32mdef\u001b[0m \u001b[0mcaja\u001b[0m\u001b[0;34m(\u001b[0m\u001b[0;34m)\u001b[0m\u001b[0;34m:\u001b[0m\u001b[0;34m\u001b[0m\u001b[0;34m\u001b[0m\u001b[0m\n\u001b[1;32m     13\u001b[0m     \u001b[0mvende\u001b[0m \u001b[0;34m=\u001b[0m \u001b[0minput\u001b[0m\u001b[0;34m(\u001b[0m\u001b[0;34m'cualesproductos se vendieron '\u001b[0m\u001b[0;34m)\u001b[0m\u001b[0;34m.\u001b[0m\u001b[0mlower\u001b[0m\u001b[0;34m(\u001b[0m\u001b[0;34m)\u001b[0m\u001b[0;34m\u001b[0m\u001b[0;34m\u001b[0m\u001b[0m\n\u001b[0;32m---> 14\u001b[0;31m     \u001b[0mcanti\u001b[0m \u001b[0;34m=\u001b[0m \u001b[0mint\u001b[0m\u001b[0;34m(\u001b[0m\u001b[0minput\u001b[0m\u001b[0;34m(\u001b[0m\u001b[0;34m'cuantos de cada producto '\u001b[0m\u001b[0;34m)\u001b[0m\u001b[0;34m)\u001b[0m\u001b[0;34m\u001b[0m\u001b[0;34m\u001b[0m\u001b[0m\n\u001b[0m\u001b[1;32m     15\u001b[0m     \u001b[0;32mwhile\u001b[0m \u001b[0mvende\u001b[0m\u001b[0;34m!=\u001b[0m\u001b[0;34m\"salir\"\u001b[0m\u001b[0;34m:\u001b[0m\u001b[0;34m\u001b[0m\u001b[0;34m\u001b[0m\u001b[0m\n\u001b[1;32m     16\u001b[0m       \u001b[0;32mif\u001b[0m \u001b[0mvende\u001b[0m \u001b[0;32min\u001b[0m \u001b[0minv\u001b[0m\u001b[0;34m:\u001b[0m\u001b[0;34m\u001b[0m\u001b[0;34m\u001b[0m\u001b[0m\n",
            "\u001b[0;32m/usr/local/lib/python3.7/dist-packages/ipykernel/kernelbase.py\u001b[0m in \u001b[0;36mraw_input\u001b[0;34m(self, prompt)\u001b[0m\n\u001b[1;32m    861\u001b[0m             \u001b[0mself\u001b[0m\u001b[0;34m.\u001b[0m\u001b[0m_parent_ident\u001b[0m\u001b[0;34m,\u001b[0m\u001b[0;34m\u001b[0m\u001b[0;34m\u001b[0m\u001b[0m\n\u001b[1;32m    862\u001b[0m             \u001b[0mself\u001b[0m\u001b[0;34m.\u001b[0m\u001b[0m_parent_header\u001b[0m\u001b[0;34m,\u001b[0m\u001b[0;34m\u001b[0m\u001b[0;34m\u001b[0m\u001b[0m\n\u001b[0;32m--> 863\u001b[0;31m             \u001b[0mpassword\u001b[0m\u001b[0;34m=\u001b[0m\u001b[0;32mFalse\u001b[0m\u001b[0;34m,\u001b[0m\u001b[0;34m\u001b[0m\u001b[0;34m\u001b[0m\u001b[0m\n\u001b[0m\u001b[1;32m    864\u001b[0m         )\n\u001b[1;32m    865\u001b[0m \u001b[0;34m\u001b[0m\u001b[0m\n",
            "\u001b[0;32m/usr/local/lib/python3.7/dist-packages/ipykernel/kernelbase.py\u001b[0m in \u001b[0;36m_input_request\u001b[0;34m(self, prompt, ident, parent, password)\u001b[0m\n\u001b[1;32m    902\u001b[0m             \u001b[0;32mexcept\u001b[0m \u001b[0mKeyboardInterrupt\u001b[0m\u001b[0;34m:\u001b[0m\u001b[0;34m\u001b[0m\u001b[0;34m\u001b[0m\u001b[0m\n\u001b[1;32m    903\u001b[0m                 \u001b[0;31m# re-raise KeyboardInterrupt, to truncate traceback\u001b[0m\u001b[0;34m\u001b[0m\u001b[0;34m\u001b[0m\u001b[0;34m\u001b[0m\u001b[0m\n\u001b[0;32m--> 904\u001b[0;31m                 \u001b[0;32mraise\u001b[0m \u001b[0mKeyboardInterrupt\u001b[0m\u001b[0;34m(\u001b[0m\u001b[0;34m\"Interrupted by user\"\u001b[0m\u001b[0;34m)\u001b[0m \u001b[0;32mfrom\u001b[0m \u001b[0;32mNone\u001b[0m\u001b[0;34m\u001b[0m\u001b[0;34m\u001b[0m\u001b[0m\n\u001b[0m\u001b[1;32m    905\u001b[0m             \u001b[0;32mexcept\u001b[0m \u001b[0mException\u001b[0m \u001b[0;32mas\u001b[0m \u001b[0me\u001b[0m\u001b[0;34m:\u001b[0m\u001b[0;34m\u001b[0m\u001b[0;34m\u001b[0m\u001b[0m\n\u001b[1;32m    906\u001b[0m                 \u001b[0mself\u001b[0m\u001b[0;34m.\u001b[0m\u001b[0mlog\u001b[0m\u001b[0;34m.\u001b[0m\u001b[0mwarning\u001b[0m\u001b[0;34m(\u001b[0m\u001b[0;34m\"Invalid Message:\"\u001b[0m\u001b[0;34m,\u001b[0m \u001b[0mexc_info\u001b[0m\u001b[0;34m=\u001b[0m\u001b[0;32mTrue\u001b[0m\u001b[0;34m)\u001b[0m\u001b[0;34m\u001b[0m\u001b[0;34m\u001b[0m\u001b[0m\n",
            "\u001b[0;31mKeyboardInterrupt\u001b[0m: Interrupted by user"
          ]
        }
      ]
    },
    {
      "cell_type": "markdown",
      "source": [
        "los productos que tenemos son:combo1:20000,combo2:25000,combo3:18000,combo4:24500,jugos naturales:7000,cerveza:3500,agua:4000,gaseosa:2500,papas:3000\n",
        "cualesproductos se vendieron combo1\n",
        "cuantos de cada producto 2"
      ],
      "metadata": {
        "id": "iwRtguXjsJg_"
      }
    },
    {
      "cell_type": "code",
      "source": [
        "print( 0x 123)"
      ],
      "metadata": {
        "colab": {
          "base_uri": "https://localhost:8080/",
          "height": 130
        },
        "id": "kA2hbnPqsN63",
        "outputId": "6b348049-7915-47a5-9903-2c44b66196d8"
      },
      "execution_count": null,
      "outputs": [
        {
          "output_type": "error",
          "ename": "SyntaxError",
          "evalue": "ignored",
          "traceback": [
            "\u001b[0;36m  File \u001b[0;32m\"<ipython-input-3-8f85bf04c668>\"\u001b[0;36m, line \u001b[0;32m1\u001b[0m\n\u001b[0;31m    print( 0x 123)\u001b[0m\n\u001b[0m            ^\u001b[0m\n\u001b[0;31mSyntaxError\u001b[0m\u001b[0;31m:\u001b[0m invalid token\n"
          ]
        }
      ]
    },
    {
      "cell_type": "markdown",
      "source": [
        "se violaron las reglas de sintaxis. La razón es que no se nos permite usar 0 como prefijo en ningún número hasta que lo haya definido correctamente como hexadecimal o cadena."
      ],
      "metadata": {
        "id": "vkPL7RyVsQYX"
      }
    },
    {
      "cell_type": "code",
      "source": [
        ">>>while True print('hello world')\n",
        " file '<stidin>', line 1\n",
        "  while  True print('hello world')"
      ],
      "metadata": {
        "colab": {
          "base_uri": "https://localhost:8080/",
          "height": 130
        },
        "id": "kR0nuCY5sSw3",
        "outputId": "96e4e642-04bb-4adc-98bb-8d5b99a0ef00"
      },
      "execution_count": null,
      "outputs": [
        {
          "output_type": "error",
          "ename": "SyntaxError",
          "evalue": "ignored",
          "traceback": [
            "\u001b[0;36m  File \u001b[0;32m\"<ipython-input-4-ef93eb99c8a7>\"\u001b[0;36m, line \u001b[0;32m1\u001b[0m\n\u001b[0;31m    >>>while True print('hello world')\u001b[0m\n\u001b[0m     ^\u001b[0m\n\u001b[0;31mSyntaxError\u001b[0m\u001b[0;31m:\u001b[0m invalid syntax\n"
          ]
        }
      ]
    },
    {
      "cell_type": "markdown",
      "source": [
        "Error de sintaxis. para corregir se debe colocar : en la linea 1 y 3"
      ],
      "metadata": {
        "id": "prAPZW3BsT2v"
      }
    }
  ]
}