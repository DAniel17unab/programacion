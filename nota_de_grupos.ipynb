{
  "nbformat": 4,
  "nbformat_minor": 0,
  "metadata": {
    "colab": {
      "provenance": []
    },
    "kernelspec": {
      "name": "python3",
      "display_name": "Python 3"
    },
    "language_info": {
      "name": "python"
    }
  },
  "cells": [
    {
      "cell_type": "code",
      "execution_count": null,
      "metadata": {
        "id": "F9ky2qkpxIjE"
      },
      "outputs": [],
      "source": [
        "g1=[]\n",
        "note1=[]\n",
        "grupo2=[]\n",
        "note2=[]\n",
        "gtupo3=[]\n",
        "note3=[]\n",
        "n1=int(input(\"num de estudiantes del grado\"))\n",
        "for i in range(0,n1):\n",
        "  estudiante1=input(\"nombres de estudiantes\")\n",
        "  note1=int(input(\"digite la nota de cada estudiante\"))\n",
        "  g1.append(estudiante1)\n",
        "  note1.sppend(note1)\n",
        "sumnota=sum(note1)\n",
        "for i in range(0,n2):\n",
        "  estudiante2=input(\"nombres de estudiantes\")\n",
        "  note2=int(input(\"digite la nota de cada estudiante\"))\n",
        "  g2.append(estudiante2)\n",
        "  note2.sppend(note2)\n",
        "sumnota2=sum(note1)\n",
        "for i in range(0,n3):\n",
        "  estudiante3=input(\"nombres de estudiantes\")\n",
        "  note3=int(input(\"digite la nota de cada estudiante\"))\n",
        "  g3.append(estudiante3)\n",
        "  note3.sppend(note3)\n",
        "sumnota3=sum(note3)\n",
        "\n",
        "sumtotalnot=(sumnuta1+sumnota2+sumnota3)\n",
        "prom1=(sumnota1/note1)\n",
        "prom2=(sumnota2/note2)\n",
        "prom3=(sumnota3/n3)\n",
        "promtotalnot=(sumtotalnot/n1+n2+n3)\n",
        "print(\"el promedio de los grupos 1,2,3 es: \",prom1, prom2, prom3)\n",
        "print(\"el promedio de los tres: \", promtotalnot)\n",
        "\n"
      ]
    }
  ]
}