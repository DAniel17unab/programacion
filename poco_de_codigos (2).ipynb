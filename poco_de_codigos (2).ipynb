{
  "nbformat": 4,
  "nbformat_minor": 0,
  "metadata": {
    "colab": {
      "provenance": []
    },
    "kernelspec": {
      "name": "python3",
      "display_name": "Python 3"
    },
    "language_info": {
      "name": "python"
    }
  },
  "cells": [
    {
      "cell_type": "code",
      "execution_count": null,
      "metadata": {
        "colab": {
          "base_uri": "https://localhost:8080/"
        },
        "id": "D1uUcigTm1rp",
        "outputId": "ea740818-9412-4dcc-f72d-be256e254190"
      },
      "outputs": [
        {
          "output_type": "stream",
          "name": "stdout",
          "text": [
            "pun un numero8\n",
            "pon otro hermos@7\n",
            "1 es inexacta\n"
          ]
        }
      ],
      "source": [
        "d= int(input(\"pon un número\"))\n",
        "r= int(input(\"pon otro hermos@\"))\n",
        "b=d%r \n",
        "if b == 0:\n",
        "  print((b),\"es exacta\")\n",
        "else:\n",
        "  print((b),\"es inexacta\")\n",
        "\n",
        "\n"
      ]
    },
    {
      "cell_type": "code",
      "source": [
        "num= int(input(\"dime un número entero: \"))\n",
        "\n",
        "if num % 3 == 0:\n",
        "  if num % 5 == 0:\n",
        "    print(\"es multiplo de 3 y 5\")\n",
        "\n",
        "  else:\n",
        "    print(\"es multiplo de 3\")\n",
        "\n",
        "else:\n",
        "  if num % 5 == 0:\n",
        "    print(\"es Multiplo de 5\")\n",
        "\n",
        "  else:\n",
        "    if num % 2 == 0:\n",
        "      print(\"es multiplo de 2\")\n",
        "\n",
        "\n",
        "\n",
        "\n",
        "\n",
        "\n"
      ],
      "metadata": {
        "id": "z2AiY2MqzUWf",
        "colab": {
          "base_uri": "https://localhost:8080/"
        },
        "outputId": "6efb41b7-36d3-4b0b-b5b8-e31aad1eeb50"
      },
      "execution_count": null,
      "outputs": [
        {
          "output_type": "stream",
          "name": "stdout",
          "text": [
            "dime un numero entero: 12\n",
            "es multiplo de 3\n"
          ]
        }
      ]
    },
    {
      "cell_type": "code",
      "source": [
        "print(\"ingrese la primera edad\")\n",
        "num1 = int(input())\n",
        "print(\"ingrese la segunda edad\")\n",
        "num2 = int(input())\n",
        "print(\"ingrese la tercera edad\")\n",
        "num3 = int(input())\n",
        "if(num1<num2 and num2<num3):\n",
        "  print(\"\",num1,\"-\",num2,\"-\",num3)\n",
        "elif(num2<num1 and num1<num3):\n",
        "  print(\"\",num2,\"-\",num1,\"-\",num3)\n",
        "elif(num3<num1 and num1<num2):\n",
        "  print(\"\",num3,\"-\",num1,\"-\",num2)\n",
        "elif(num3<num2 and num2<num1):\n",
        "  print(\"\",num3,\"-\",num2,\"-\",num1)\n",
        "elif(num1<num3 and num3<num2):\n",
        "  print(\"\",num1,\"-\",num3,\"-\",num2)\n",
        "elif(num2<num3 and num3<num1):\n",
        "  print(\"\",num2,\"-\",num3,\"-\",num1)\n",
        "else:\n",
        "  print(\"hay gemelos\")\n",
        "\n",
        "\n",
        "\n",
        "\n"
      ],
      "metadata": {
        "colab": {
          "base_uri": "https://localhost:8080/"
        },
        "id": "-hR20wWOG_6n",
        "outputId": "36b27fe2-8d7c-45be-cbfc-ef7c6c63e495"
      },
      "execution_count": null,
      "outputs": [
        {
          "output_type": "stream",
          "name": "stdout",
          "text": [
            "ingrese la primera edad\n",
            "96\n",
            "ingrese la segunda edad\n",
            "47\n",
            "ingrese la tercera edad\n",
            "78\n",
            " 47 - 78 - 96\n"
          ]
        }
      ]
    },
    {
      "cell_type": "code",
      "source": [
        "número = int (input ('Ingresa el valor de numero: '))\n",
        "centenas=(número%1000-numero%100)//100\n",
        "decenas=(número%100-numero%10)//10\n",
        "unidades=numero%10\n",
        "print ('Valor de centenas: ' + repr (centenas))\n",
        "print ('Valor de decenas: ' + repr (decenas))\n",
        "print ('Valor de unidades: ' + repr (unidades))\n",
        "print ()"
      ],
      "metadata": {
        "colab": {
          "base_uri": "https://localhost:8080/"
        },
        "id": "wNHB9qRlLbuw",
        "outputId": "eb85c5c4-9fb3-48d9-b370-441f473152cf"
      },
      "execution_count": null,
      "outputs": [
        {
          "output_type": "stream",
          "name": "stdout",
          "text": [
            "Ingresa el valor de numero: 1234\n",
            "Valor de centenas: 2\n",
            "Valor de decenas: 3\n",
            "Valor de unidades: 4\n",
            "\n"
          ]
        }
      ]
    },
    {
      "cell_type": "code",
      "source": [
        "palabrita= input(\"ingresa la palabra: \")\n",
        "if str(palabrita)==str(palabrita)[::-1]:\n",
        "  print(\"es palídromo\")\n",
        "else:\n",
        "  print(\"no es palídromo\")"
      ],
      "metadata": {
        "colab": {
          "base_uri": "https://localhost:8080/"
        },
        "id": "CpM5eVbiNNMU",
        "outputId": "0dd1d6f8-f006-4adc-ce04-3c5f07e04e3c"
      },
      "execution_count": null,
      "outputs": [
        {
          "output_type": "stream",
          "name": "stdout",
          "text": [
            "ingresa la palabra: perro\n",
            "no es palidromo\n"
          ]
        }
      ]
    },
    {
      "cell_type": "code",
      "source": [
        "num= input(\"ingresa el numero: \")\n",
        "if str(num)==str(num)[::-1]:\n",
        "  print(\"es palídromo\")\n",
        "else:\n",
        "  print(\"no es palídromo\")"
      ],
      "metadata": {
        "colab": {
          "base_uri": "https://localhost:8080/"
        },
        "id": "Cm_OQIqROoGn",
        "outputId": "d4208329-cce7-4304-f937-7f2b064e443b"
      },
      "execution_count": null,
      "outputs": [
        {
          "output_type": "stream",
          "name": "stdout",
          "text": [
            "ingresa el numero: 45677654\n",
            "es palidromo\n"
          ]
        }
      ]
    },
    {
      "cell_type": "code",
      "source": [
        "import datetime\n",
        " \n",
        "def edad(naci):\n",
        "    hoy = datetime.date.today()\n",
        "    if hoy < naci:\n",
        "        print('error en la fecha de nacimiento')\n",
        "\n",
        "    else:\n",
        "        ano = naci.year\n",
        "        mes = naci.month\n",
        "        dia = naci.day\n",
        " \n",
        "        fecha = naci\n",
        "        edad = 0\n",
        "        while fecha < hoy:\n",
        "            edad += 1\n",
        "            fecha = datetime.date(ano+edad, mes, dia)\n",
        " \n",
        "        print('Mi edad es de: %s' % (edad-1))\n",
        "\n",
        "\n",
        " \n",
        "edad(datetime.date(2004, 6, 17))"
      ],
      "metadata": {
        "colab": {
          "base_uri": "https://localhost:8080/"
        },
        "id": "2yFCp8R09Ga5",
        "outputId": "e20f4aed-3664-49fa-dc40-0176ade978a9"
      },
      "execution_count": null,
      "outputs": [
        {
          "output_type": "stream",
          "name": "stdout",
          "text": [
            "Mi edad es de: 18\n"
          ]
        }
      ]
    },
    {
      "cell_type": "code",
      "source": [
        "def leapYear(year):\n",
        "  if year % 4 ==0:\n",
        "    if year % 100 == 0:\n",
        "      if year % 400 == 0:\n",
        "        print(\"es un año bisiesto\")\n",
        "      else:\n",
        "        print(\"es un año normal\")\n",
        "    else:\n",
        "      print(\"es un año bisiesto\")\n",
        "  else:\n",
        "    print(\"es un año normal\")\n",
        "\n",
        "year= int(input(\"ingresa el año\"))\n",
        "leapYear(yearc)\n"
      ],
      "metadata": {
        "colab": {
          "base_uri": "https://localhost:8080/"
        },
        "id": "HKInCYCYZUA5",
        "outputId": "ad861fb4-2910-4e39-fa5b-87343dc5f011"
      },
      "execution_count": null,
      "outputs": [
        {
          "output_type": "stream",
          "name": "stdout",
          "text": [
            "ingresa el año1800\n",
            "es un año normal\n"
          ]
        }
      ]
    },
    {
      "cell_type": "code",
      "source": [
        "codigo=input(\"ingrese codigo del estudiante\")\n",
        "cod=str(codigo.strip().lower())\n",
        "longitud=len(cod)\n",
        "uis=(cod[0:4])\n",
        "if cod.startswith(\"u\") and longitud ==9:\n",
        "  print(\"es un estudiante de la unab\")\n",
        "elif cod.startswith(\"a000\"):\n",
        "  print(\"es un estudiante de los andes\")\n",
        "elif int(uis)>=1950:\n",
        "  print(\"es un estudiante de la uis\")\n",
        "  if cod.endswith(\"52\"):\n",
        "    print(\"derecho\")\n",
        "  else:\n",
        "    print(\"pon un codigo valido\")\n",
        "else:\n",
        "  print(\"ingresa un codigo valido\")"
      ],
      "metadata": {
        "colab": {
          "base_uri": "https://localhost:8080/"
        },
        "id": "wLFpbbSTq-cl",
        "outputId": "7ec7cde3-cfe5-4f1e-a94f-a7aa8872deb4"
      },
      "execution_count": null,
      "outputs": [
        {
          "output_type": "stream",
          "name": "stdout",
          "text": [
            "ingrese codigo del estudianteU00156292\n",
            "es un estudiante de la unab\n"
          ]
        }
      ]
    }
  ]
}