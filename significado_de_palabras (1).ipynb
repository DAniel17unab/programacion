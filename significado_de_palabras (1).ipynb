{
  "nbformat": 4,
  "nbformat_minor": 0,
  "metadata": {
    "colab": {
      "provenance": []
    },
    "kernelspec": {
      "name": "python3",
      "display_name": "Python 3"
    },
    "language_info": {
      "name": "python"
    }
  },
  "cells": [
    {
      "cell_type": "markdown",
      "source": [
        "#false and true"
      ],
      "metadata": {
        "id": "9Tm9Eq3VJFp-"
      }
    },
    {
      "cell_type": "code",
      "source": [
        ">>> 3 > 2\n",
        "True\n",
        ">>> 3 < 2\n",
        "False"
      ],
      "metadata": {
        "id": "kg4vHg5JJLW5"
      },
      "execution_count": null,
      "outputs": []
    },
    {
      "cell_type": "markdown",
      "source": [
        "#none"
      ],
      "metadata": {
        "id": "tjH9d7bmJXp2"
      }
    },
    {
      "cell_type": "code",
      "source": [
        "def test_none_r(bs):\n",
        "    stream = bio(bs)\n",
        "    assert rw.none().read(stream) is None\n",
        "    stream.read() == 'a b c'\n",
        "\n",
        "    assert rw.none().width() == 0"
      ],
      "metadata": {
        "id": "lJ0A_SE_JZ_4"
      },
      "execution_count": null,
      "outputs": []
    },
    {
      "cell_type": "markdown",
      "source": [
        "#and\n"
      ],
      "metadata": {
        "id": "h2vk6v96Jm60"
      }
    },
    {
      "cell_type": "code",
      "source": [
        "a = 12\n",
        "b = 2\n",
        "\n",
        "if a > 0 and b  > 0:\n",
        "    print('a and b are greater than 0') "
      ],
      "metadata": {
        "id": "7nzcd4XMJ9SA"
      },
      "execution_count": null,
      "outputs": []
    },
    {
      "cell_type": "markdown",
      "source": [
        "#assert\n",
        "El uso de assert en Python nos permite realizar comprobaciones."
      ],
      "metadata": {
        "id": "37Q3V0y8J95q"
      }
    },
    {
      "cell_type": "code",
      "source": [
        "def calcula_media(lista):\n",
        "    return sum(lista)/len(lista)\n",
        "assert(calcula_media([5, 10, 7.5]) == 7.5)\n",
        "assert(calcula_media([4, 8]) == 6)"
      ],
      "metadata": {
        "id": "9KyCAXDnKshi"
      },
      "execution_count": null,
      "outputs": []
    },
    {
      "cell_type": "markdown",
      "source": [
        "#break\n",
        "nos permite alterar el comportamiento de los bucles while y for. Concretamente, permite terminar con la ejecución del bucle."
      ],
      "metadata": {
        "id": "EOtVFgJNK3C9"
      }
    },
    {
      "cell_type": "code",
      "source": [
        "number = 0\n",
        "\n",
        "for number in range(10):\n",
        "    if number == 5:\n",
        "        break    \n",
        "\n",
        "    print('Number is ' + str(number))\n",
        "\n",
        "print('Out of loop')"
      ],
      "metadata": {
        "colab": {
          "base_uri": "https://localhost:8080/"
        },
        "id": "UbsbLazrK9pH",
        "outputId": "2fb31084-81a1-4999-bea8-2a3bd461dd1b"
      },
      "execution_count": null,
      "outputs": [
        {
          "output_type": "stream",
          "name": "stdout",
          "text": [
            "0\n"
          ]
        }
      ]
    },
    {
      "cell_type": "markdown",
      "source": [
        "#class\n",
        "proveen una forma de empaquetar datos y funcionalidad juntos. "
      ],
      "metadata": {
        "id": "ZhwH8hUYLDHX"
      }
    },
    {
      "cell_type": "code",
      "source": [
        "class Humano(): \n",
        "    def __init__(self, edad, nombre): \n",
        "        self.edad = edad #\n",
        "        self.nombre = nombre \n",
        "Persona1 = Humano(31, \"Pedro\")"
      ],
      "metadata": {
        "id": "dSVZI8IGLXwX"
      },
      "execution_count": null,
      "outputs": []
    },
    {
      "cell_type": "markdown",
      "source": [
        "#continue\n",
        "da la opción de omitir la parte de un bucle en la que se activa una condición externa, pero continuar para completar el resto del bucle."
      ],
      "metadata": {
        "id": "ODzFn1JcMBd7"
      }
    },
    {
      "cell_type": "code",
      "source": [
        "number = 0\n",
        "\n",
        "for number in range(10):\n",
        "    if number == 5:\n",
        "        continue   \n",
        "\n",
        "    print('Number is ' + str(number))\n",
        "\n",
        "print('Out of loop')"
      ],
      "metadata": {
        "id": "gQRMRALBMDOf"
      },
      "execution_count": null,
      "outputs": []
    },
    {
      "cell_type": "markdown",
      "source": [
        "#pass\n",
        "permite manejar la condición sin que el bucle se vea afectado de ninguna manera; todo el código continuará leyéndose a menos que se produzca la instrucción break u otra instrucción."
      ],
      "metadata": {
        "id": "zWKF6U48MT3J"
      }
    },
    {
      "cell_type": "code",
      "source": [
        "number = 0\n",
        "\n",
        "for number in range(10):\n",
        "    if number == 5:\n",
        "        pass    \n",
        "\n",
        "    print('Number is ' + str(number))\n",
        "\n",
        "print('Out of loop')\n"
      ],
      "metadata": {
        "id": "Bwq-m1YwMZT9"
      },
      "execution_count": null,
      "outputs": []
    },
    {
      "cell_type": "markdown",
      "source": [
        "#def\n",
        "palabra reservada para definir una función"
      ],
      "metadata": {
        "id": "PAZGDqlmMbqB"
      }
    },
    {
      "cell_type": "code",
      "source": [
        "def multiplica_por_5(numero):\n",
        "    print(f'{numero} * 5 = {numero * 5}')\n",
        "print('Comienzo del programa')    \n",
        "multiplica_por_5(7)\n",
        "print('Siguiente')\n",
        "multiplica_por_5(113)\n",
        "print('Fin')"
      ],
      "metadata": {
        "colab": {
          "base_uri": "https://localhost:8080/"
        },
        "id": "i6-UbeKCM3J_",
        "outputId": "4db43d71-3ade-49c9-ba9a-664168e6ae7d"
      },
      "execution_count": null,
      "outputs": [
        {
          "output_type": "stream",
          "name": "stdout",
          "text": [
            "Comienzo del programa\n",
            "7 * 5 = 35\n",
            "Siguiente\n",
            "113 * 5 = 565\n",
            "Fin\n"
          ]
        }
      ]
    },
    {
      "cell_type": "markdown",
      "source": [
        "#If, Elif y Else\n",
        "sforma común de controlar el flujo de un programa, lo que te permite ejecutar bloques de código específicos según el valor de algunos datos."
      ],
      "metadata": {
        "id": "oFuBQpTTM7VW"
      }
    },
    {
      "cell_type": "code",
      "source": [
        "#if\n",
        "x = 5\n",
        "\n",
        "if x > 4:\n",
        "  print(\"¡La condición era verdadera!\") \n"
      ],
      "metadata": {
        "id": "98A7q6BfNL0v"
      },
      "execution_count": null,
      "outputs": []
    },
    {
      "cell_type": "code",
      "source": [
        "#else\n",
        "if not True:\n",
        "  print('¡La sentencia If se ejecutará!')\n",
        "else:\n",
        "  print('¡La sentencia Else se ejecutará!')"
      ],
      "metadata": {
        "id": "A32EDEJzNSlh"
      },
      "execution_count": null,
      "outputs": []
    },
    {
      "cell_type": "code",
      "source": [
        "#elif\n",
        "z = 7\n",
        "\n",
        "if z > 8:\n",
        "  print(\"¡No voy a imprimir!\") #esta sentencia no se ejecuta\n",
        "elif z > 5:\n",
        "  print(\"¡Yo lo haré!\") #esta sentencia se ejecuta\n",
        "elif z > 6:\n",
        "  print(\"¡Tampoco voy a imprimir!\") #esta sentencia no se ejecuta\n",
        "else:\n",
        "  print(\"¡Yo tampoco!\") #esta sentencia no se ejecuta"
      ],
      "metadata": {
        "id": "xwop50LgNWbp"
      },
      "execution_count": null,
      "outputs": []
    },
    {
      "cell_type": "markdown",
      "source": [
        "#except  y try\n",
        "Se trata de una forma de controlar el comportamiento de un programa cuando se produce un error."
      ],
      "metadata": {
        "id": "nnh8BGM4NbqU"
      }
    },
    {
      "cell_type": "code",
      "source": [
        " try:\n",
        "   cociente = dividendo / divisor\n",
        " except:\n",
        "     print (\"No se permite la división por cero\")"
      ],
      "metadata": {
        "colab": {
          "base_uri": "https://localhost:8080/"
        },
        "id": "f7oYiTsZNtoY",
        "outputId": "3c7af34f-8acc-4bb6-888d-466da581942e"
      },
      "execution_count": null,
      "outputs": [
        {
          "output_type": "stream",
          "name": "stdout",
          "text": [
            "No se permite la división por cero\n"
          ]
        }
      ]
    },
    {
      "cell_type": "markdown",
      "source": [
        "#finally\n",
        "se suele usar si queremos ejecutar algún tipo de acción de limpieza."
      ],
      "metadata": {
        "id": "-NOFFH5zO4GI"
      }
    },
    {
      "cell_type": "code",
      "source": [
        "try:\n",
        "    x = 2/0\n",
        "except:\n",
        "    print(\"Entra en except, ha ocurrido una excepción\")\n",
        "finally:\n",
        "    print(\"Entra en finally, se ejecuta el bloque finally\")"
      ],
      "metadata": {
        "colab": {
          "base_uri": "https://localhost:8080/"
        },
        "id": "dIFOLOtmPN0i",
        "outputId": "31e01a74-0e68-4820-88c8-2e732303dc79"
      },
      "execution_count": null,
      "outputs": [
        {
          "output_type": "stream",
          "name": "stdout",
          "text": [
            "Entra en except, ha ocurrido una excepción\n",
            "Entra en finally, se ejecuta el bloque finally\n"
          ]
        }
      ]
    },
    {
      "cell_type": "markdown",
      "source": [
        "#raise\n",
        "podemos lanzar nosotros una excepción manualmente, usando raise.\n"
      ],
      "metadata": {
        "id": "-l8aTDwfPar0"
      }
    },
    {
      "cell_type": "code",
      "source": [
        "raise NameError(\"Información de la excepción\")"
      ],
      "metadata": {
        "id": "Qx49viPnPjuf"
      },
      "execution_count": null,
      "outputs": []
    },
    {
      "cell_type": "markdown",
      "source": [
        "#for\n",
        "for se utiliza para recorrer los elementos de un objeto iterable (lista, tupla, conjunto, diccionario, …)"
      ],
      "metadata": {
        "id": "DF6n6_U9PmHy"
      }
    },
    {
      "cell_type": "code",
      "source": [
        "nums = [4, 78, 9, 84]\n",
        "for n in nums:\n",
        "    print(n)"
      ],
      "metadata": {
        "colab": {
          "base_uri": "https://localhost:8080/"
        },
        "id": "AplirOoWQQwS",
        "outputId": "648eb24f-6ed3-47d4-9243-45b1fcaaac15"
      },
      "execution_count": null,
      "outputs": [
        {
          "output_type": "stream",
          "name": "stdout",
          "text": [
            "4\n",
            "78\n",
            "9\n",
            "84\n"
          ]
        }
      ]
    },
    {
      "cell_type": "markdown",
      "source": [
        "#from\n",
        "le indicamos a Python específicamente cuáles objetos queremos importar de un módulo en particular. "
      ],
      "metadata": {
        "id": "6kTxh1kSQaDS"
      }
    },
    {
      "cell_type": "code",
      "source": [
        "from twisted.python.threadpool import Threadpool\n",
        "tp = Threadpool()"
      ],
      "metadata": {
        "id": "w6YVDAA8RGms"
      },
      "execution_count": null,
      "outputs": []
    },
    {
      "cell_type": "markdown",
      "source": [
        "#global\n",
        "son aquellas definidas en el cuerpo principal del programa fuera de cualquier función. Son accesibles desde cualquier punto del programa, incluso desde dentro de funciones."
      ],
      "metadata": {
        "id": "laC6VmjERKSO"
      }
    },
    {
      "cell_type": "code",
      "source": [
        "contador = 10\n",
        "\n",
        "def reiniciar_contador():\n",
        "\tglobal contador\n",
        "\tcontador = 0\n",
        "\n",
        "\n",
        "print(f'Contador antes es {contador}')\n",
        "reiniciar_contador()\n",
        "print(f'Contador después es {contador}')"
      ],
      "metadata": {
        "id": "ggwhKsCQRcGd"
      },
      "execution_count": null,
      "outputs": []
    },
    {
      "cell_type": "markdown",
      "source": [
        "#import\n",
        "para importar tu propio código Python. Es decir, importar tus propios archivos usando Python."
      ],
      "metadata": {
        "id": "Lskt-jP2RgsC"
      }
    },
    {
      "cell_type": "code",
      "source": [
        "import modulo          \n",
        "import paquete.modulo1 \n",
        "import paquete.subpaquete.modulo1"
      ],
      "metadata": {
        "id": "fccIAIbzR95f"
      },
      "execution_count": null,
      "outputs": []
    },
    {
      "cell_type": "markdown",
      "source": [
        "#in\n",
        "Puedes verificar si un elemento pertenece a una secuencia o no con los operadores in"
      ],
      "metadata": {
        "id": "V7LvWkrcSK7v"
      }
    },
    {
      "cell_type": "code",
      "source": [
        " mensaje = \"Hello, World!\"\n",
        "\n",
        " \"e\" in mensaje\n",
        "True"
      ],
      "metadata": {
        "colab": {
          "base_uri": "https://localhost:8080/"
        },
        "id": "fl1NEXF2SkOj",
        "outputId": "a412dcb1-9ab8-4924-ee4d-25e934e08f2c"
      },
      "execution_count": null,
      "outputs": [
        {
          "output_type": "execute_result",
          "data": {
            "text/plain": [
              "True"
            ]
          },
          "metadata": {},
          "execution_count": 22
        }
      ]
    },
    {
      "cell_type": "markdown",
      "source": [
        "#lambda\n",
        "se usa cuando necesitas una función sencilla y de rápido acceso: por ejemplo, como argumento de una función de orden mayor como los son map o filter"
      ],
      "metadata": {
        "id": "CZoc-db9UTxc"
      }
    },
    {
      "cell_type": "code",
      "source": [
        "mi_lista = [1, 2, 3, 4, 5, 6]\n",
        "lista_nueva = list(map(lambda x: x * 2, mi_lista))\n",
        "print(lista_nueva)  # [2, 4, 6, 8, 10, 12]"
      ],
      "metadata": {
        "id": "FwgHvcW6UYFB"
      },
      "execution_count": null,
      "outputs": []
    }
  ]
}