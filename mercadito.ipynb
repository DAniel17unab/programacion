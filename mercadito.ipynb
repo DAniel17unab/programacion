{
  "nbformat": 4,
  "nbformat_minor": 0,
  "metadata": {
    "colab": {
      "provenance": []
    },
    "kernelspec": {
      "name": "python3",
      "display_name": "Python 3"
    },
    "language_info": {
      "name": "python"
    }
  },
  "cells": [
    {
      "cell_type": "code",
      "source": [
        "menú={\"combo1\":20000, \"combo2\":25000, \"combo3\":18000, \"combo4\":24500, \"papas\":3000, \"jugos_naturales\":7000, \"cerveza\":3500, \"agua\":2000, \"gaseosa\":2500}\n",
        "\n",
        "print(\"este es nuestro menú :)\")\n",
        "print(menú)\n",
        "\n",
        "c_combo1= int(input(\"ingrese la cantidad de combo1 que ordenó: \"))\n",
        "c_combo2= int(input(\"ingrese la cantidad de combo2 que ordenó: \"))\n",
        "c_combo3= int(input(\"ingrese la cantidad de combo3 que ordenó: \"))\n",
        "c_combo4= int(input(\"ingrese la cantidad de combo4 que oredenó: \"))\n",
        "c_papas= int(input(\"ingrese la cantidad de papas que ordenó: \"))\n",
        "c_jugos_naturales= int(input(\"ingrese la cantidad de jugos naturales que ordenó: \"))\n",
        "c_cerveza= int(input(\"ingrese la cantidad de cervezas que ordenó: \"))\n",
        "c_agua= int(input(\"ingrese la cantidad de agua que ordenó: \"))\n",
        "c_gaseosa= int(input(\"ingrese la cantidad de gaseosas que ordenó: \"))\n",
        "\n",
        "total= c_combo1* combo1 + c_combo2* combo2 + c_combo3* combo3 + c_combo4* combo4\\\n",
        "+ c_papas* papas + c_jugos_naturales* jugos_naturales + c_cerveza*cerveza + c_agua*agua + c_gaseosa* gaseosa\n",
        "\n",
        "\n",
        "print(\"el valor a pagar es: \", total)\n",
        "\n",
        "\n",
        "\n",
        "\n",
        "\n"
      ],
      "metadata": {
        "colab": {
          "base_uri": "https://localhost:8080/"
        },
        "id": "ZPVslajS1G75",
        "outputId": "a21c21ec-a048-44e0-d706-37635180ceab"
      },
      "execution_count": null,
      "outputs": [
        {
          "output_type": "stream",
          "name": "stdout",
          "text": [
            "este es nuestro menú :)\n",
            "{'combo1': 20000, 'combo2': 25000, 'combo3': 18000, 'combo4': 24500, 'papas': 3000, 'jugos_naturales': 7000, 'cerveza': 3500, 'agua': 2000, 'gaseosa': 2500}\n",
            "ingrese la cantidad de combo1 que ordenó: 2\n",
            "ingrese la cantidad de combo2 que ordenó: 2\n",
            "ingrese la cantidad de combo3 que ordenó: 2\n",
            "ingrese la cantidad de combo4 que oredenó: 2\n",
            "ingrese la cantidad de papas que oredenó: 3\n",
            "ingrese la cantidad de jugos naturales que ordenó: 4\n",
            "ingrese la cantidad de cervezas que ordenó: 2\n",
            "ingrese la cantidad de agua que ordenó: 2\n",
            "ingrese la cantidad de gaseosas que ordenó: 5\n",
            "el valor a pagar es:  235500\n"
          ]
        }
      ]
    }
  ]
}